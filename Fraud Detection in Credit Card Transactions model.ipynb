{
 "cells": [
  {
   "cell_type": "code",
   "execution_count": 28,
   "id": "77c98f0f-344b-442a-96d4-72cca7bdba27",
   "metadata": {},
   "outputs": [],
   "source": [
    "import pandas as pd"
   ]
  },
  {
   "cell_type": "code",
   "execution_count": 29,
   "id": "6f3866c2-250e-4f1c-9f00-147c0e4dfdb8",
   "metadata": {},
   "outputs": [
    {
     "name": "stdout",
     "output_type": "stream",
     "text": [
      "creditcard.csv file created with sample data.\n"
     ]
    }
   ],
   "source": [
    "import pandas as pd\n",
    "\n",
    "# Create a small sample dataset\n",
    "data = {\n",
    "    'Time': [0, 10000, 20000, 30000, 40000, 50000, 60000, 70000, 80000, 90000],\n",
    "    'V1': [0.1, -1.2, 0.3, 0.4, -0.5, 0.6, -0.7, 0.8, -0.9, 1.0],\n",
    "    'V2': [1.1, -0.2, 0.3, -0.4, 0.5, -0.6, 0.7, -0.8, 0.9, -1.0],\n",
    "    'V3': [0.5, 0.6, -0.7, 0.8, -0.9, 1.0, -1.1, 1.2, -1.3, 1.4],\n",
    "    'Amount': [100, 200, 150, 300, 250, 400, 350, 500, 450, 600],\n",
    "    'Class': [0, 0, 0, 1, 0, 0, 1, 0, 0, 1]  # 1 indicates fraud\n",
    "}\n",
    "\n",
    "# Convert to DataFrame\n",
    "df = pd.DataFrame(data)\n",
    "\n",
    "# Save to CSV\n",
    "df.to_csv('creditcard.csv', index=False)\n",
    "\n",
    "print(\"creditcard.csv file created with sample data.\")\n"
   ]
  },
  {
   "cell_type": "code",
   "execution_count": 30,
   "id": "58dafd61-fcf8-444a-b26f-cac1faff9c1c",
   "metadata": {},
   "outputs": [],
   "source": [
    "data = pd.read_csv('creditcard.csv')"
   ]
  },
  {
   "cell_type": "code",
   "execution_count": 31,
   "id": "6d5ee469-31a6-45d5-a559-52439e08bb8f",
   "metadata": {},
   "outputs": [
    {
     "name": "stdout",
     "output_type": "stream",
     "text": [
      "First 5 rows of the dataset:\n",
      "    Time   V1   V2   V3  Amount  Class\n",
      "0      0  0.1  1.1  0.5     100      0\n",
      "1  10000 -1.2 -0.2  0.6     200      0\n",
      "2  20000  0.3  0.3 -0.7     150      0\n",
      "3  30000  0.4 -0.4  0.8     300      1\n",
      "4  40000 -0.5  0.5 -0.9     250      0\n"
     ]
    }
   ],
   "source": [
    "print(\"First 5 rows of the dataset:\")\n",
    "print(data.head())"
   ]
  },
  {
   "cell_type": "code",
   "execution_count": 32,
   "id": "275b4dc7-f9ad-4c23-aff1-09b7a8d5bacd",
   "metadata": {},
   "outputs": [
    {
     "name": "stdout",
     "output_type": "stream",
     "text": [
      "\n",
      "Dataset information:\n",
      "<class 'pandas.core.frame.DataFrame'>\n",
      "RangeIndex: 10 entries, 0 to 9\n",
      "Data columns (total 6 columns):\n",
      " #   Column  Non-Null Count  Dtype  \n",
      "---  ------  --------------  -----  \n",
      " 0   Time    10 non-null     int64  \n",
      " 1   V1      10 non-null     float64\n",
      " 2   V2      10 non-null     float64\n",
      " 3   V3      10 non-null     float64\n",
      " 4   Amount  10 non-null     int64  \n",
      " 5   Class   10 non-null     int64  \n",
      "dtypes: float64(3), int64(3)\n",
      "memory usage: 612.0 bytes\n",
      "None\n"
     ]
    }
   ],
   "source": [
    "print(\"\\nDataset information:\")\n",
    "print(data.info())"
   ]
  },
  {
   "cell_type": "code",
   "execution_count": 33,
   "id": "d09ee153-adb9-4d51-b3da-ae8f5db6fec8",
   "metadata": {},
   "outputs": [
    {
     "name": "stdout",
     "output_type": "stream",
     "text": [
      "\n",
      "Class distribution (0 = legitimate, 1 = fraud):\n",
      "Class\n",
      "0    7\n",
      "1    3\n",
      "Name: count, dtype: int64\n"
     ]
    }
   ],
   "source": [
    "print(\"\\nClass distribution (0 = legitimate, 1 = fraud):\")\n",
    "print(data['Class'].value_counts())"
   ]
  },
  {
   "cell_type": "code",
   "execution_count": 34,
   "id": "70241bb7-2c70-4186-bcfa-903cc07e8c07",
   "metadata": {},
   "outputs": [
    {
     "name": "stdout",
     "output_type": "stream",
     "text": [
      "\n",
      "Data preprocessing completed.\n",
      "Training set size: 8\n",
      "Test set size: 2\n",
      "Fraud cases in training set: 2\n",
      "Fraud cases in test set: 1\n"
     ]
    }
   ],
   "source": [
    "from sklearn.model_selection import train_test_split\n",
    "from sklearn.preprocessing import StandardScaler\n",
    "\n",
    "# Separate features and target variable\n",
    "X = data.drop('Class', axis=1)\n",
    "y = data['Class']\n",
    "\n",
    "# Scale features to have mean=0 and variance=1\n",
    "scaler = StandardScaler()\n",
    "X_scaled = scaler.fit_transform(X)\n",
    "\n",
    "# Split data into training and testing sets (80% train, 20% test)\n",
    "# Stratify to keep the same proportion of fraud cases in train and test\n",
    "X_train, X_test, y_train, y_test = train_test_split(\n",
    "    X_scaled, y, test_size=0.2, random_state=42, stratify=y)\n",
    "\n",
    "print(\"\\nData preprocessing completed.\")\n",
    "print(f\"Training set size: {len(y_train)}\")\n",
    "print(f\"Test set size: {len(y_test)}\")\n",
    "print(f\"Fraud cases in training set: {sum(y_train==1)}\")\n",
    "print(f\"Fraud cases in test set: {sum(y_test==1)}\")\n"
   ]
  },
  {
   "cell_type": "code",
   "execution_count": 35,
   "id": "ba64ade8-d852-4ff5-9e6e-9af0be74598d",
   "metadata": {},
   "outputs": [
    {
     "name": "stdout",
     "output_type": "stream",
     "text": [
      "\n",
      "Model training completed.\n"
     ]
    }
   ],
   "source": [
    "from sklearn.ensemble import RandomForestClassifier\n",
    "\n",
    "# Initialize Random Forest classifier with 100 trees\n",
    "model = RandomForestClassifier(n_estimators=100, random_state=42)\n",
    "\n",
    "# Train the model on the training data\n",
    "model.fit(X_train, y_train)\n",
    "\n",
    "print(\"\\nModel training completed.\")\n"
   ]
  },
  {
   "cell_type": "code",
   "execution_count": 36,
   "id": "765b8ec1-df41-4712-9af3-5ae124cf1af4",
   "metadata": {},
   "outputs": [
    {
     "name": "stdout",
     "output_type": "stream",
     "text": [
      "\n",
      "Classification Report:\n",
      "              precision    recall  f1-score   support\n",
      "\n",
      "           0       0.00      0.00      0.00       1.0\n",
      "           1       0.00      0.00      0.00       1.0\n",
      "\n",
      "    accuracy                           0.00       2.0\n",
      "   macro avg       0.00      0.00      0.00       2.0\n",
      "weighted avg       0.00      0.00      0.00       2.0\n",
      "\n",
      "Confusion Matrix:\n",
      "[[0 1]\n",
      " [1 0]]\n",
      "ROC AUC Score: 0.0000\n"
     ]
    },
    {
     "data": {
      "image/png": "[encoded data removed]",
      "text/plain": [
       "<Figure size 1200x600 with 1 Axes>"
      ]
     },
     "metadata": {},
     "output_type": "display_data"
    }
   ],
   "source": [
    "from sklearn.metrics import classification_report, confusion_matrix, roc_auc_score\n",
    "import matplotlib.pyplot as plt\n",
    "import numpy as np\n",
    "\n",
    "# Predict on the test set\n",
    "y_pred = model.predict(X_test)\n",
    "y_proba = model.predict_proba(X_test)[:, 1]  # Probability of class 1 (fraud)\n",
    "\n",
    "# Print classification report (precision, recall, f1-score)\n",
    "print(\"\\nClassification Report:\")\n",
    "print(classification_report(y_test, y_pred))\n",
    "\n",
    "# Print confusion matrix\n",
    "print(\"Confusion Matrix:\")\n",
    "print(confusion_matrix(y_test, y_pred))\n",
    "\n",
    "# Calculate and print ROC AUC score\n",
    "roc_auc = roc_auc_score(y_test, y_proba)\n",
    "print(f\"ROC AUC Score: {roc_auc:.4f}\")\n",
    "\n",
    "# Plot feature importance\n",
    "feature_names = data.columns.drop('Class')\n",
    "importances = model.feature_importances_\n",
    "indices = np.argsort(importances)[::-1]\n",
    "\n",
    "plt.figure(figsize=(12,6))\n",
    "plt.title(\"Feature Importances\")\n",
    "plt.bar(range(len(importances)), importances[indices], align='center')\n",
    "plt.xticks(range(len(importances)), feature_names[indices], rotation=90)\n",
    "plt.tight_layout()\n",
    "plt.show()\n"
   ]
  },
  {
   "cell_type": "code",
   "execution_count": 37,
   "id": "79573008-9304-449e-bddd-ca7f568bceb8",
   "metadata": {
    "scrolled": true
   },
   "outputs": [
    {
     "name": "stdout",
     "output_type": "stream",
     "text": [
      "\n",
      "Sample transaction prediction: Legitimate, Probability: 0.0500\n"
     ]
    },
    {
     "name": "stderr",
     "output_type": "stream",
     "text": [
      "E:\\Python\\Lib\\site-packages\\sklearn\\utils\\validation.py:2739: UserWarning: X does not have valid feature names, but StandardScaler was fitted with feature names\n",
      "  warnings.warn(\n"
     ]
    }
   ],
   "source": [
    "def predict_fraud(new_transaction):\n",
    "    \"\"\"\n",
    "    Predict if a new transaction is fraudulent.\n",
    "    \n",
    "    Parameters:\n",
    "    new_transaction (list or array): Feature values in the same order as training data\n",
    "    \n",
    "    Returns:\n",
    "    tuple: (is_fraud (bool), fraud_probability (float))\n",
    "    \"\"\"\n",
    "    # Scale the input features using the previously fitted scaler\n",
    "    new_transaction_scaled = scaler.transform([new_transaction])\n",
    "    \n",
    "    # Predict fraud probability\n",
    "    fraud_prob = model.predict_proba(new_transaction_scaled)[0][1]\n",
    "    \n",
    "    # Define threshold for fraud detection (can be tuned)\n",
    "    threshold = 0.5\n",
    "    is_fraud = fraud_prob > threshold\n",
    "    \n",
    "    return is_fraud, fraud_prob\n",
    "\n",
    "# Example usage with the first transaction from the dataset\n",
    "sample_transaction = X.iloc[0].values\n",
    "fraud_flag, probability = predict_fraud(sample_transaction)\n",
    "print(f\"\\nSample transaction prediction: {'Fraud' if fraud_flag else 'Legitimate'}, Probability: {probability:.4f}\")\n"
   ]
  },
  {
   "cell_type": "code",
   "execution_count": 41,
   "id": "b61c9f2f-acd9-418a-88ff-9213ab48ff74",
   "metadata": {},
   "outputs": [
    {
     "name": "stdout",
     "output_type": "stream",
     "text": [
      "Transaction 0: Predicted class = 0, Fraud probability = 0.0500\n",
      "Transaction 1: Predicted class = 0, Fraud probability = 0.0600\n",
      "Transaction 2: Predicted class = 0, Fraud probability = 0.0300\n",
      "Transaction 3: Predicted class = 0, Fraud probability = 0.0400\n",
      "Transaction 4: Predicted class = 0, Fraud probability = 0.1300\n"
     ]
    }
   ],
   "source": [
    "# Instead of selecting one row:\n",
    "# sample_transaction = X.iloc[0].values\n",
    "\n",
    "# Use the entire dataset features as a NumPy array or DataFrame\n",
    "all_transactions = X  # keep as DataFrame to preserve column names\n",
    "\n",
    "# Scale all transactions\n",
    "all_transactions_scaled = scaler.transform(all_transactions)\n",
    "\n",
    "# Predict fraud for all transactions\n",
    "predictions = model.predict(all_transactions_scaled)\n",
    "probabilities = model.predict_proba(all_transactions_scaled)[:, 1]\n",
    "\n",
    "# Example: print first 5 predictions and probabilities\n",
    "for i in range(5):\n",
    "    print(f\"Transaction {i}: Predicted class = {predictions[i]}, Fraud probability = {probabilities[i]:.4f}\")\n"
   ]
  },
  {
   "cell_type": "code",
   "execution_count": null,
   "id": "7817f558-016a-46fe-acac-20167f20fdf6",
   "metadata": {},
   "outputs": [],
   "source": []
  }
 ],
 "metadata": {
  "kernelspec": {
   "display_name": "Python 3 (ipykernel)",
   "language": "python",
   "name": "python3"
  },
  "language_info": {
   "codemirror_mode": {
    "name": "ipython",
    "version": 3
   },
   "file_extension": ".py",
   "mimetype": "text/x-python",
   "name": "python",
   "nbconvert_exporter": "python",
   "pygments_lexer": "ipython3",
   "version": "3.13.5"
  }
 },
 "nbformat": 4,
 "nbformat_minor": 5
}
